{
 "cells": [
  {
   "cell_type": "markdown",
   "metadata": {},
   "source": [
    "Intro to Python"
   ]
  },
  {
   "cell_type": "code",
   "execution_count": 1,
   "metadata": {},
   "outputs": [],
   "source": [
    "# Creating variable\n",
    "variable = \"use for remember information.\"\n",
    "snake_case = 'snake case is use for create variable names with multiple words.'\n",
    "variables_descriptive_names = \"to help us understancd what's inside them.\""
   ]
  },
  {
   "cell_type": "code",
   "execution_count": 2,
   "metadata": {},
   "outputs": [
    {
     "name": "stdout",
     "output_type": "stream",
     "text": [
      "\t Hello\n",
      "\\t Hello\n"
     ]
    }
   ],
   "source": [
    "# Raw String\n",
    "print(\"\\t Hello\")\n",
    "print(r\"\\t Hello\")"
   ]
  },
  {
   "cell_type": "code",
   "execution_count": 3,
   "metadata": {},
   "outputs": [
    {
     "name": "stdout",
     "output_type": "stream",
     "text": [
      "2 new messages.\n"
     ]
    }
   ],
   "source": [
    "# Formatting String (f-string)\n",
    "number = 2\n",
    "print(f\"{number} new messages.\")"
   ]
  },
  {
   "cell_type": "code",
   "execution_count": 4,
   "metadata": {},
   "outputs": [
    {
     "name": "stdout",
     "output_type": "stream",
     "text": [
      "\\t 1 2\n",
      "\\t Phurin Nararat\n"
     ]
    }
   ],
   "source": [
    "# Using raw string and format string together\n",
    "print(r\"\\t {0} {1}\".format(1 , 2))\n",
    "print(r\"\\t {firstname} {lastname}\".format(firstname = \"Phurin\" , lastname = \"Nararat\"))"
   ]
  },
  {
   "cell_type": "code",
   "execution_count": 5,
   "metadata": {},
   "outputs": [
    {
     "name": "stdout",
     "output_type": "stream",
     "text": [
      "Hi, Phurin.\n"
     ]
    }
   ],
   "source": [
    "# Input\n",
    "print(f\"Hi, {input(\"What is your name?\")}.\")"
   ]
  },
  {
   "cell_type": "code",
   "execution_count": 6,
   "metadata": {},
   "outputs": [
    {
     "name": "stdout",
     "output_type": "stream",
     "text": [
      "2\n",
      "1\n"
     ]
    }
   ],
   "source": [
    "# Walrus operator\n",
    "variable = 2\n",
    "print(variable)\n",
    "print(variable := 1)"
   ]
  },
  {
   "cell_type": "markdown",
   "metadata": {},
   "source": [
    "Flow Control"
   ]
  },
  {
   "cell_type": "code",
   "execution_count": 7,
   "metadata": {},
   "outputs": [
    {
     "name": "stdout",
     "output_type": "stream",
     "text": [
      "It's true.\n",
      "even\n"
     ]
    }
   ],
   "source": [
    "# Making Decision\n",
    "'''\n",
    "These things will be consider as False\n",
    "- False\n",
    "- None\n",
    "- []\n",
    "- {}\n",
    "- \"\"\n",
    "- set()\n",
    "- 0\n",
    "- 0.0\n",
    "'''\n",
    "if True:\n",
    "    print(\"It's true.\")\n",
    "elif False:\n",
    "    print(\"It's False.\")\n",
    "else:\n",
    "    print(\"It's else.\")\n",
    "\n",
    "parity = \"even\" if True else \"odd\"\n",
    "print(parity)"
   ]
  },
  {
   "cell_type": "code",
   "execution_count": 8,
   "metadata": {},
   "outputs": [
    {
     "name": "stdout",
     "output_type": "stream",
     "text": [
      "Loop ended.\n"
     ]
    }
   ],
   "source": [
    "# While Loops\n",
    "while input(\"Leave blank to break this loop..\") != \"\":\n",
    "    print(\"Continue this loops...\")\n",
    "print(\"Loop ended.\")"
   ]
  },
  {
   "cell_type": "code",
   "execution_count": 9,
   "metadata": {},
   "outputs": [
    {
     "name": "stdout",
     "output_type": "stream",
     "text": [
      "1\n",
      "2\n",
      "3\n",
      "4\n",
      "5\n"
     ]
    }
   ],
   "source": [
    "# For loops\n",
    "for i in range(int(input(\"How many times do you want??\"))):\n",
    "    print(i + 1)"
   ]
  },
  {
   "cell_type": "markdown",
   "metadata": {},
   "source": [
    "Lists"
   ]
  },
  {
   "cell_type": "code",
   "execution_count": 10,
   "metadata": {},
   "outputs": [
    {
     "name": "stdout",
     "output_type": "stream",
     "text": [
      "True\n",
      "False\n"
     ]
    }
   ],
   "source": [
    "# Check member in list\n",
    "print(1 in [1, 2, 3])\n",
    "print(0 in [1, 2, 3])"
   ]
  },
  {
   "cell_type": "code",
   "execution_count": 11,
   "metadata": {},
   "outputs": [
    {
     "name": "stdout",
     "output_type": "stream",
     "text": [
      "['Non', 'Kat']\n"
     ]
    }
   ],
   "source": [
    "# Group data in list\n",
    "active_user = [\"Non\", \"Kat\"]\n",
    "print(active_user)"
   ]
  },
  {
   "cell_type": "code",
   "execution_count": 12,
   "metadata": {},
   "outputs": [
    {
     "name": "stdout",
     "output_type": "stream",
     "text": [
      "['Non', 'Kat', 'New']\n",
      "['Non', 'Kat', 'New', 'Porce']\n"
     ]
    }
   ],
   "source": [
    "# Update data in list\n",
    "active_user = [\"Non\", \"Kat\"]\n",
    "active_user.append(\"New\")\n",
    "print(active_user)\n",
    "active_user.insert(3, \"Porce\")\n",
    "print(active_user)"
   ]
  },
  {
   "cell_type": "code",
   "execution_count": 13,
   "metadata": {},
   "outputs": [
    {
     "name": "stdout",
     "output_type": "stream",
     "text": [
      "[1, 2, 3, 4, 5, 6]\n",
      "[1, 2, 3, 4, 5, 6]\n"
     ]
    }
   ],
   "source": [
    "# Extend list (Combine 2 list)\n",
    "x = [1,2,3]\n",
    "x.extend([4,5,6])\n",
    "print(x)\n",
    "\n",
    "y = [1,2,3]\n",
    "y = y + [4,5,6]\n",
    "print(y)"
   ]
  },
  {
   "cell_type": "code",
   "execution_count": 14,
   "metadata": {},
   "outputs": [],
   "source": [
    "# Ignore some element by using undeerscore\n",
    "_,x = [1,2]"
   ]
  },
  {
   "cell_type": "code",
   "execution_count": 18,
   "metadata": {},
   "outputs": [
    {
     "name": "stdout",
     "output_type": "stream",
     "text": [
      "[4, 6, 8]\n",
      "[6, 8]\n",
      "[6]\n"
     ]
    }
   ],
   "source": [
    "# Delete element in list\n",
    "list1 = [2, 4, 6, 8, 10]\n",
    "del list1[4]\n",
    "list1.remove(2)\n",
    "print(list1[:])\n",
    "del list1[0]\n",
    "print(list1)\n",
    "list1.pop()\n",
    "print(list1)"
   ]
  },
  {
   "cell_type": "code",
   "execution_count": null,
   "metadata": {},
   "outputs": [
    {
     "name": "stdout",
     "output_type": "stream",
     "text": [
      "Non\n",
      "Kat\n"
     ]
    }
   ],
   "source": [
    "# Looping over list\n",
    "active_user = [\"Non\", \"Kat\"]\n",
    "for i in active_user:\n",
    "    print(i)"
   ]
  },
  {
   "cell_type": "code",
   "execution_count": null,
   "metadata": {},
   "outputs": [],
   "source": [
    "# Deciding with Lists\n",
    "active_user = [\"Non\", \"Kat\"]\n",
    "if len(active_user) < 5:\n",
    "    print(\"Active user is less than 5. The system is shutting down...\")\n",
    "else:\n",
    "    print(\"Continue online...\")"
   ]
  },
  {
   "cell_type": "code",
   "execution_count": null,
   "metadata": {},
   "outputs": [
    {
     "name": "stdout",
     "output_type": "stream",
     "text": [
      "[5, 45, 15, 43, 52, 4]\n",
      "[4, 5, 15, 43, 45, 52]\n"
     ]
    }
   ],
   "source": [
    "# Sorting Data\n",
    "score = [5, 45, 15, 43, 52, 4]\n",
    "print(score)\n",
    "score.sort()\n",
    "print(score)"
   ]
  },
  {
   "cell_type": "code",
   "execution_count": null,
   "metadata": {},
   "outputs": [],
   "source": [
    "# Slice\n",
    "list1 = [2, 4, 6, 8, 10]\n",
    "list2 = [2, \"two\", 3, \"three\", 4, \"four\"]\n",
    "print(list1[2])\n",
    "print(list2[2:4])\n",
    "print(list2[2:4:2])\n",
    "print(list2[2:])\n",
    "print(list2[:4])\n",
    "print(list2[:])\n",
    "print(list1[:])"
   ]
  },
  {
   "cell_type": "markdown",
   "metadata": {},
   "source": [
    "Functions"
   ]
  },
  {
   "cell_type": "code",
   "execution_count": null,
   "metadata": {},
   "outputs": [],
   "source": [
    "# Lambda function\n",
    "a = lambda x, y : x + y\n",
    "print(a(2, 4))"
   ]
  },
  {
   "cell_type": "code",
   "execution_count": null,
   "metadata": {},
   "outputs": [],
   "source": [
    "# Reusing Code with Functions\n",
    "def greet_user():\n",
    "    print(\"Hello user!\")"
   ]
  },
  {
   "cell_type": "code",
   "execution_count": null,
   "metadata": {},
   "outputs": [
    {
     "name": "stdout",
     "output_type": "stream",
     "text": [
      "Hello Non!\n"
     ]
    }
   ],
   "source": [
    "# Creating Parameters\n",
    "def greet_user(name):\n",
    "    print(f\"Hello {name}!\")\n",
    "greet_user(input(\"What is your name?\"))"
   ]
  },
  {
   "cell_type": "code",
   "execution_count": null,
   "metadata": {},
   "outputs": [
    {
     "name": "stdout",
     "output_type": "stream",
     "text": [
      "5 + 6 = 11\n"
     ]
    }
   ],
   "source": [
    "# Reuturning Values\n",
    "def add(a, b):\n",
    "    return a+b\n",
    "print(f\"5 + 6 = {add(5, 6)}\")"
   ]
  },
  {
   "cell_type": "code",
   "execution_count": 21,
   "metadata": {},
   "outputs": [
    {
     "name": "stdout",
     "output_type": "stream",
     "text": [
      "200\n"
     ]
    },
    {
     "ename": "NameError",
     "evalue": "name 'bonus' is not defined",
     "output_type": "error",
     "traceback": [
      "\u001b[1;31m---------------------------------------------------------------------------\u001b[0m",
      "\u001b[1;31mNameError\u001b[0m                                 Traceback (most recent call last)",
      "Cell \u001b[1;32mIn[21], line 16\u001b[0m\n\u001b[0;32m     13\u001b[0m     bonus \u001b[38;5;241m=\u001b[39m \u001b[38;5;241m10000\u001b[39m\n\u001b[0;32m     14\u001b[0m     \u001b[38;5;28;01mreturn\u001b[39;00m salary \u001b[38;5;241m+\u001b[39m bonus\n\u001b[1;32m---> 16\u001b[0m \u001b[38;5;28mprint\u001b[39m(\u001b[43mbonus\u001b[49m)\n",
      "\u001b[1;31mNameError\u001b[0m: name 'bonus' is not defined"
     ]
    }
   ],
   "source": [
    "# Functions and Variable Scope\n",
    "# Global\n",
    "discount = 100\n",
    "def calculate_discount(price):\n",
    "    global discount\n",
    "    discount = 200\n",
    "    return price - discount\n",
    "calculate_discount(500)\n",
    "print(discount)\n",
    "\n",
    "# Local\n",
    "def add_bonus(salary):\n",
    "    bonus = 10000\n",
    "    return salary + bonus\n",
    "\n",
    "print(bonus)"
   ]
  },
  {
   "cell_type": "markdown",
   "metadata": {},
   "source": [
    "Tuples, Dictionaries, & Sets"
   ]
  },
  {
   "cell_type": "code",
   "execution_count": null,
   "metadata": {},
   "outputs": [],
   "source": [
    "# Creating Tuples\n",
    "user_data = (\"phurin.nrt\", \"Phurin Nararat\") # This datatype can't modify later"
   ]
  },
  {
   "cell_type": "code",
   "execution_count": null,
   "metadata": {},
   "outputs": [
    {
     "name": "stdout",
     "output_type": "stream",
     "text": [
      "<class 'tuple'>\n"
     ]
    }
   ],
   "source": [
    "# Returning Tuples\n",
    "def min_max(list):\n",
    "    return min(list), max(list)\n",
    "\n",
    "print(type(min_max([-1, 1]))) # Return data of function also tuple type"
   ]
  },
  {
   "cell_type": "code",
   "execution_count": null,
   "metadata": {},
   "outputs": [
    {
     "name": "stdout",
     "output_type": "stream",
     "text": [
      "{'headquarters': 'New York', 'flagship': 'Paris'}\n"
     ]
    }
   ],
   "source": [
    "# Creating Dictionaries\n",
    "locations = {\n",
    "    \"headquarters\": \"New York\",\n",
    "    \"flagship\": \"Paris\"\n",
    "}\n",
    "\n",
    "print(locations) # keep a meaning of each value in a collection."
   ]
  },
  {
   "cell_type": "code",
   "execution_count": null,
   "metadata": {},
   "outputs": [
    {
     "name": "stdout",
     "output_type": "stream",
     "text": [
      "Paris\n",
      "Rattana Building\n",
      "False\n",
      "{'headquarters': 'New York', 'flagship': 'Paris'}\n"
     ]
    }
   ],
   "source": [
    "# Using Dictionaries\n",
    "locations = {\n",
    "    \"headquarters\": \"New York\",\n",
    "    \"flagship\": \"Paris\"\n",
    "}\n",
    "# Accessing and updating values\n",
    "print(locations[\"flagship\"])\n",
    "# Adding a key-value pair\n",
    "locations[\"building\"] = \"Rattana Building\"\n",
    "print(locations[\"building\"])\n",
    "# Check if a dictionary contains a key\n",
    "print(\"floor\" in locations)\n",
    "# Removing Dictionaries\n",
    "locations.pop(\"building\")\n",
    "print(locations)"
   ]
  },
  {
   "cell_type": "code",
   "execution_count": null,
   "metadata": {},
   "outputs": [
    {
     "name": "stdout",
     "output_type": "stream",
     "text": [
      "{'77120', '10560', '11720', '11000'}\n"
     ]
    }
   ],
   "source": [
    "# Creating Sets\n",
    "postcodes = {\"11720\", \"10560\", \"77120\", \"11000\", \"11000\"}\n",
    "print(postcodes) # Sets prevent duplicates data"
   ]
  },
  {
   "cell_type": "code",
   "execution_count": null,
   "metadata": {},
   "outputs": [
    {
     "name": "stdout",
     "output_type": "stream",
     "text": [
      "defaultdict(<class 'int'>, {'apple': 3, 'banana': 2, 'orange': 1})\n"
     ]
    }
   ],
   "source": [
    "# Default Dict (Useful when don't want to check key before update)\n",
    "from collections import defaultdict\n",
    "\n",
    "# Create a defaultdict with int as the default factory\n",
    "# This means that any missing key will have a default value of 0\n",
    "fruit_counter = defaultdict(int)\n",
    "\n",
    "# List of items\n",
    "fruits = ['apple', 'banana', 'orange', 'apple', 'banana', 'apple']\n",
    "\n",
    "# Count the occurrences of each fruit\n",
    "for fruit in fruits:\n",
    "    fruit_counter[fruit] += 1\n",
    "\n",
    "# Print the counter\n",
    "print(fruit_counter)\n"
   ]
  },
  {
   "cell_type": "code",
   "execution_count": null,
   "metadata": {},
   "outputs": [
    {
     "name": "stdout",
     "output_type": "stream",
     "text": [
      "[('apple', 3), ('banana', 2)]\n"
     ]
    }
   ],
   "source": [
    "# Collections Counter\n",
    "from collections import Counter\n",
    "\n",
    "# List of items\n",
    "fruits = ['apple', 'banana', 'orange', 'apple', 'banana', 'apple']\n",
    "\n",
    "# Create a Counter object\n",
    "fruit_counter = Counter(fruits)\n",
    "\n",
    "# Find the most common elements\n",
    "most_common_fruits = fruit_counter.most_common(2)\n",
    "\n",
    "# Print the most common elements\n",
    "print(most_common_fruits)"
   ]
  },
  {
   "cell_type": "markdown",
   "metadata": {},
   "source": [
    "Modules & APIs"
   ]
  },
  {
   "cell_type": "code",
   "execution_count": null,
   "metadata": {},
   "outputs": [
    {
     "name": "stdout",
     "output_type": "stream",
     "text": [
      "4\n",
      "Vroom!\n"
     ]
    }
   ],
   "source": [
    "# Modules\n",
    "class Car:\n",
    "    wheels = 4\n",
    "    doors = 4\n",
    "\n",
    "    def start_engine(self):\n",
    "        print(\"Vroom!\")\n",
    "\n",
    "my_car = Car()\n",
    "print(my_car.wheels)\n",
    "my_car.start_engine()"
   ]
  },
  {
   "cell_type": "code",
   "execution_count": null,
   "metadata": {},
   "outputs": [
    {
     "ename": "Exception",
     "evalue": "There must be at least one diner",
     "output_type": "error",
     "traceback": [
      "\u001b[1;31m---------------------------------------------------------------------------\u001b[0m",
      "\u001b[1;31mException\u001b[0m                                 Traceback (most recent call last)",
      "Cell \u001b[1;32mIn[2], line 5\u001b[0m\n\u001b[0;32m      3\u001b[0m diners \u001b[38;5;241m=\u001b[39m \u001b[38;5;241m0\u001b[39m\n\u001b[0;32m      4\u001b[0m \u001b[38;5;28;01mif\u001b[39;00m diners \u001b[38;5;241m<\u001b[39m \u001b[38;5;241m1\u001b[39m:\n\u001b[1;32m----> 5\u001b[0m   \u001b[38;5;28;01mraise\u001b[39;00m \u001b[38;5;167;01mException\u001b[39;00m(\u001b[38;5;124m\"\u001b[39m\u001b[38;5;124mThere must be at least one diner\u001b[39m\u001b[38;5;124m\"\u001b[39m)\n\u001b[0;32m      6\u001b[0m \u001b[38;5;28;01melse\u001b[39;00m:\n\u001b[0;32m      7\u001b[0m   slices_each \u001b[38;5;241m=\u001b[39m slices \u001b[38;5;241m/\u001b[39m diners\n",
      "\u001b[1;31mException\u001b[0m: There must be at least one diner"
     ]
    }
   ],
   "source": [
    "# Raising Exceptions\n",
    "slices = 18\n",
    "diners = 0\n",
    "if diners < 1:\n",
    "  raise Exception(\"There must be at least one diner\")\n",
    "else:\n",
    "  slices_each = slices / diners"
   ]
  },
  {
   "cell_type": "code",
   "execution_count": null,
   "metadata": {},
   "outputs": [
    {
     "name": "stdout",
     "output_type": "stream",
     "text": [
      "User not known, please try again\n",
      "How are you?\n",
      "Are you okay?\n"
     ]
    }
   ],
   "source": [
    "# Handling Exceptions\n",
    "try:\n",
    "  login(user)\n",
    "\n",
    "except:\n",
    "  print('User not known, please try again')\n",
    "else:\n",
    "  print(f\"Hello {user}\")\n",
    "finally:\n",
    "  print(f\"How are you?\") # use a finally statement at the end if we want to execute some related code regardless of whether an error was raised.\n",
    "print(\"Are you okay?\")"
   ]
  },
  {
   "cell_type": "code",
   "execution_count": null,
   "metadata": {},
   "outputs": [
    {
     "name": "stdout",
     "output_type": "stream",
     "text": [
      "Data successfully retrieved\n",
      "Name: Rick Sanchez\n",
      "Status: Alive\n"
     ]
    }
   ],
   "source": [
    "# Introduction to Requests\n",
    "import requests\n",
    "\n",
    "url = \"https://rickandmortyapi.com/api/character/1\"\n",
    "response = requests.get(url)\n",
    "if response.status_code == 200:\n",
    "    print(\"Data successfully retrieved\")\n",
    "else :\n",
    "    print(\"Failed to retrieve data\")\n",
    "character_data = response.json()\n",
    "\n",
    "print(f\"Name: {character_data['name']}\")\n",
    "print(f\"Status: {character_data['status']}\")"
   ]
  },
  {
   "cell_type": "code",
   "execution_count": null,
   "metadata": {},
   "outputs": [
    {
     "name": "stdout",
     "output_type": "stream",
     "text": [
      "404 Client Error: Not Found for url: https://pokeapi.co/api/v2/pokemon/mimo\n"
     ]
    }
   ],
   "source": [
    "# Introduction to Requests\n",
    "import requests\n",
    "\n",
    "url = \"https://pokeapi.co/api/v2/pokemon/mimo\"\n",
    "try:\n",
    "    response = requests.get(url)\n",
    "    response.raise_for_status()\n",
    "    print(\"Data successfully retrieved\")\n",
    "    pokemon_data = response.json()\n",
    "    print(f\"Name: {pokemon_data['name']}\")\n",
    "    print(f\"ID: {pokemon_data['id']}\")\n",
    "except requests.HTTPError as error:\n",
    "    print(error)"
   ]
  },
  {
   "cell_type": "markdown",
   "metadata": {},
   "source": [
    "Strings & Lists Operations"
   ]
  },
  {
   "cell_type": "code",
   "execution_count": null,
   "metadata": {},
   "outputs": [
    {
     "name": "stdout",
     "output_type": "stream",
     "text": [
      "['20K', '21K', '25K', '30K']\n"
     ]
    }
   ],
   "source": [
    "# Splitting Strings\n",
    "salary = \"20K 21K 25K 30K\"\n",
    "print(salary.split())"
   ]
  },
  {
   "cell_type": "code",
   "execution_count": null,
   "metadata": {},
   "outputs": [
    {
     "name": "stdout",
     "output_type": "stream",
     "text": [
      "Today's special is hamburger\n"
     ]
    }
   ],
   "source": [
    "# Updating Strings\n",
    "special = \"Today's special is pasta\"\n",
    "special = special.replace(\"pasta\", \"hamburger\")\n",
    "print(special)"
   ]
  },
  {
   "cell_type": "code",
   "execution_count": null,
   "metadata": {},
   "outputs": [
    {
     "name": "stdout",
     "output_type": "stream",
     "text": [
      "[5.0, 19.0, 20.0, 29.0, 31.0]\n"
     ]
    }
   ],
   "source": [
    "# Using List Comprehensions\n",
    "prices = [10, 38, 40, 58, 62]\n",
    "halved = [price/2 for price in prices]\n",
    "print(halved)"
   ]
  },
  {
   "cell_type": "code",
   "execution_count": null,
   "metadata": {},
   "outputs": [
    {
     "name": "stdout",
     "output_type": "stream",
     "text": [
      "[5.0, 19.0, 20.0, 29.0, 31.0]\n"
     ]
    }
   ],
   "source": [
    "# Functions as Expressions\n",
    "prices = [10, 38, 40, 58, 62]\n",
    "def halve(num):\n",
    "    return num / 2\n",
    "\n",
    "halved = [halve(price) for price in prices]\n",
    "print(halved)"
   ]
  },
  {
   "cell_type": "code",
   "execution_count": null,
   "metadata": {},
   "outputs": [
    {
     "name": "stdout",
     "output_type": "stream",
     "text": [
      "[10, 38, 40]\n"
     ]
    }
   ],
   "source": [
    "# Filtering With If Statements\n",
    "prices = [10, 38, 40, 58, 62]\n",
    "prefer_prices = [price for price in prices if price > 0 and price < 50]\n",
    "print(prefer_prices)"
   ]
  },
  {
   "cell_type": "code",
   "execution_count": null,
   "metadata": {},
   "outputs": [
    {
     "name": "stdout",
     "output_type": "stream",
     "text": [
      "Tomas\n"
     ]
    }
   ],
   "source": [
    "# Negative Indexing and Deletion\n",
    "users = [\"Tony\", \"Tina\", \"Tomas\"]\n",
    "print(users[-1])"
   ]
  },
  {
   "cell_type": "code",
   "execution_count": null,
   "metadata": {},
   "outputs": [
    {
     "name": "stdout",
     "output_type": "stream",
     "text": [
      "['eggs', 'flour']\n"
     ]
    }
   ],
   "source": [
    "# Slice Notation\n",
    "ingredients = [\"eggs\", \"flour\", \"sugar\", \"salt\"]\n",
    "print(ingredients[0:2]) #[start:stop]"
   ]
  },
  {
   "cell_type": "code",
   "execution_count": null,
   "metadata": {},
   "outputs": [
    {
     "name": "stdout",
     "output_type": "stream",
     "text": [
      "{'name': 'pencil', 'type': 'stationery', 'price': 1.99, 'availability': False}\n"
     ]
    }
   ],
   "source": [
    "product = {\n",
    " 'name': 'pencil',\n",
    " 'type': 'stationery',\n",
    " 'price': 1.99,\n",
    " 'color': 'blue',\n",
    " 'availability': False\n",
    "}\n",
    "del(product[\"color\"])\n",
    "print(product)"
   ]
  },
  {
   "cell_type": "markdown",
   "metadata": {},
   "source": [
    "Object-Oriented Programming"
   ]
  },
  {
   "cell_type": "code",
   "execution_count": null,
   "metadata": {},
   "outputs": [
    {
     "name": "stdout",
     "output_type": "stream",
     "text": [
      "Low Spec Computer: \n",
      "Display size: 13\n",
      "Storage size: 256GB\n",
      "High Spec Computer: \n",
      "Display size: 27\n",
      "Storage size: 1TB\n"
     ]
    }
   ],
   "source": [
    "# Using Classes\n",
    "class Computer: # Class name usually have the first letter capitalized and rest lowercase.\n",
    "    def __init__(self, size, storage): # Constructor\n",
    "        self.size = size\n",
    "        self.storage = storage\n",
    "    \n",
    "    def print_specs(self): # Methods\n",
    "        print(f\"Display size: {self.size}\")\n",
    "        print(f\"Storage size: {self.storage}\")\n",
    "low_spec = Computer(\"13\", \"256GB\")\n",
    "high_spec = Computer(\"27\", \"1TB\")\n",
    "print(\"Low Spec Computer: \")\n",
    "low_spec.print_specs()\n",
    "print(\"High Spec Computer: \")\n",
    "high_spec.print_specs()"
   ]
  },
  {
   "cell_type": "code",
   "execution_count": null,
   "metadata": {},
   "outputs": [
    {
     "name": "stdout",
     "output_type": "stream",
     "text": [
      "False\n",
      "True\n",
      "False\n"
     ]
    }
   ],
   "source": [
    "# All\n",
    "# List of boolean values\n",
    "bool_list = [True, True, False]\n",
    "\n",
    "# Check if all elements are True\n",
    "result = all(bool_list)\n",
    "print(result)  # Output: False\n",
    "\n",
    "# List of integers\n",
    "int_list = [1, 2, 3, 4, 5]\n",
    "\n",
    "# Check if all elements are greater than 0\n",
    "result = all(x > 0 for x in int_list)\n",
    "print(result)  # Output: True\n",
    "\n",
    "# List with mixed values\n",
    "mixed_list = [1, 2, 0, 4, 5]\n",
    "\n",
    "# Check if all elements are non-zero\n",
    "result = all(mixed_list)\n",
    "print(result)  # Output: False"
   ]
  },
  {
   "cell_type": "code",
   "execution_count": null,
   "metadata": {},
   "outputs": [
    {
     "name": "stdout",
     "output_type": "stream",
     "text": [
      "True\n",
      "False\n",
      "True\n"
     ]
    }
   ],
   "source": [
    "# List of boolean values\n",
    "bool_list = [False, False, True]\n",
    "\n",
    "# Check if any element is True\n",
    "result = any(bool_list)\n",
    "print(result)  # Output: True\n",
    "\n",
    "# List of integers\n",
    "int_list = [0, -1, -2, -3, -4]\n",
    "\n",
    "# Check if any element is positive\n",
    "result = any(x > 0 for x in int_list)\n",
    "print(result)  # Output: False\n",
    "\n",
    "# List with mixed values\n",
    "mixed_list = [0, 0, 3, 0, 0]\n",
    "\n",
    "# Check if any element is non-zero\n",
    "result = any(mixed_list)\n",
    "print(result)  # Output: True"
   ]
  },
  {
   "cell_type": "code",
   "execution_count": null,
   "metadata": {},
   "outputs": [
    {
     "name": "stdout",
     "output_type": "stream",
     "text": [
      "5.0\n"
     ]
    },
    {
     "ename": "AssertionError",
     "evalue": "Denominator must not be zero",
     "output_type": "error",
     "traceback": [
      "\u001b[1;31m---------------------------------------------------------------------------\u001b[0m",
      "\u001b[1;31mAssertionError\u001b[0m                            Traceback (most recent call last)",
      "Cell \u001b[1;32mIn[28], line 10\u001b[0m\n\u001b[0;32m      7\u001b[0m \u001b[38;5;28mprint\u001b[39m(divide(\u001b[38;5;241m10\u001b[39m, \u001b[38;5;241m2\u001b[39m))  \u001b[38;5;66;03m# Output: 5.0\u001b[39;00m\n\u001b[0;32m      9\u001b[0m \u001b[38;5;66;03m# This will raise an AssertionError\u001b[39;00m\n\u001b[1;32m---> 10\u001b[0m \u001b[38;5;28mprint\u001b[39m(\u001b[43mdivide\u001b[49m\u001b[43m(\u001b[49m\u001b[38;5;241;43m10\u001b[39;49m\u001b[43m,\u001b[49m\u001b[43m \u001b[49m\u001b[38;5;241;43m0\u001b[39;49m\u001b[43m)\u001b[49m)  \u001b[38;5;66;03m# Output: AssertionError: Denominator must not be zero\u001b[39;00m\n",
      "Cell \u001b[1;32mIn[28], line 3\u001b[0m, in \u001b[0;36mdivide\u001b[1;34m(a, b)\u001b[0m\n\u001b[0;32m      2\u001b[0m \u001b[38;5;28;01mdef\u001b[39;00m \u001b[38;5;21mdivide\u001b[39m(a, b):\n\u001b[1;32m----> 3\u001b[0m     \u001b[38;5;28;01massert\u001b[39;00m b \u001b[38;5;241m!=\u001b[39m \u001b[38;5;241m0\u001b[39m, \u001b[38;5;124m\"\u001b[39m\u001b[38;5;124mDenominator must not be zero\u001b[39m\u001b[38;5;124m\"\u001b[39m\n\u001b[0;32m      4\u001b[0m     \u001b[38;5;28;01mreturn\u001b[39;00m a \u001b[38;5;241m/\u001b[39m b\n",
      "\u001b[1;31mAssertionError\u001b[0m: Denominator must not be zero"
     ]
    }
   ],
   "source": [
    "# Automated testing and assert\n",
    "def divide(a, b):\n",
    "    assert b != 0, \"Denominator must not be zero\"\n",
    "    return a / b\n",
    "\n",
    "# This will work fine\n",
    "print(divide(10, 2))  # Output: 5.0\n",
    "\n",
    "# This will raise an AssertionError\n",
    "print(divide(10, 0))  # Output: AssertionError: Denominator must not be zero\n"
   ]
  },
  {
   "cell_type": "code",
   "execution_count": null,
   "metadata": {},
   "outputs": [
    {
     "name": "stdout",
     "output_type": "stream",
     "text": [
      "Point(x=2, y=3)\n",
      "(2, 3)\n",
      "(2, 3)\n"
     ]
    }
   ],
   "source": [
    "# repr and str in class\n",
    "class Point:\n",
    "    def __init__(self, x, y):\n",
    "        self.x = x\n",
    "        self.y = y\n",
    "\n",
    "    def __repr__(self):\n",
    "        return f'Point(x={self.x}, y={self.y})'\n",
    "\n",
    "    def __str__(self):\n",
    "        return f'({self.x}, {self.y})'\n",
    "\n",
    "# Creating an instance of Point\n",
    "p = Point(2, 3)\n",
    "\n",
    "# Using __repr__\n",
    "print(repr(p))  # Output: Point(x=2, y=3)\n",
    "\n",
    "# Using __str__\n",
    "print(str(p))   # Output: (2, 3)\n",
    "\n",
    "# Without using str() or repr(), just printing the object\n",
    "print(p)        # Output: (2, 3)"
   ]
  }
 ],
 "metadata": {
  "kernelspec": {
   "display_name": "Python 3",
   "language": "python",
   "name": "python3"
  },
  "language_info": {
   "codemirror_mode": {
    "name": "ipython",
    "version": 3
   },
   "file_extension": ".py",
   "mimetype": "text/x-python",
   "name": "python",
   "nbconvert_exporter": "python",
   "pygments_lexer": "ipython3",
   "version": "3.12.4"
  }
 },
 "nbformat": 4,
 "nbformat_minor": 2
}
